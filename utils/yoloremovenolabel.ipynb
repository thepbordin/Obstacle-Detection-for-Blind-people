{
 "cells": [
  {
   "cell_type": "code",
   "execution_count": 1,
   "metadata": {},
   "outputs": [],
   "source": [
    "import glob\n",
    "import os \n",
    "import os.path as op"
   ]
  },
  {
   "cell_type": "code",
   "execution_count": 17,
   "metadata": {},
   "outputs": [
    {
     "name": "stdout",
     "output_type": "stream",
     "text": [
      "D:\\AI Builders\\Project\\data\\My Dataset 3.0\\new_yolo\n"
     ]
    }
   ],
   "source": [
    "cd D:\\AI Builders\\Project\\data\\My Dataset 3.0\\new_yolo"
   ]
  },
  {
   "cell_type": "code",
   "execution_count": 36,
   "metadata": {},
   "outputs": [],
   "source": [
    "path = glob.glob('test\\labels\\*')\n",
    "\n",
    "for p in path:\n",
    "    with open(p) as f:\n",
    "        lines = f.readlines()\n",
    "    if lines == []:\n",
    "        filename, file_ext = os.path.splitext(op.basename(p))\n",
    "        \n",
    "        imgpath = glob.glob(f\"test/image/{filename}.*\")\n",
    "        os.remove(p)\n",
    "        os.remove(imgpath[0])\n",
    "        print(f\"Removed {imgpath[0]}\")\n",
    "        "
   ]
  },
  {
   "cell_type": "code",
   "execution_count": null,
   "metadata": {},
   "outputs": [],
   "source": []
  }
 ],
 "metadata": {
  "kernelspec": {
   "display_name": "Python 3.10.5 64-bit (windows store)",
   "language": "python",
   "name": "python3"
  },
  "language_info": {
   "codemirror_mode": {
    "name": "ipython",
    "version": 3
   },
   "file_extension": ".py",
   "mimetype": "text/x-python",
   "name": "python",
   "nbconvert_exporter": "python",
   "pygments_lexer": "ipython3",
   "version": "3.10.5"
  },
  "orig_nbformat": 4,
  "vscode": {
   "interpreter": {
    "hash": "9801a7afff446e25426b885f510cadb74d0e0219c2c51ee2fcd87aa329ae4ec3"
   }
  }
 },
 "nbformat": 4,
 "nbformat_minor": 2
}
