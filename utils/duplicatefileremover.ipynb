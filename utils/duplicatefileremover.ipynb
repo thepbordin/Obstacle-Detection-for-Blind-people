{
 "cells": [
  {
   "cell_type": "code",
   "execution_count": 4,
   "metadata": {},
   "outputs": [],
   "source": [
    "import os\n",
    "import os.path as op\n",
    "import glob"
   ]
  },
  {
   "cell_type": "code",
   "execution_count": 12,
   "metadata": {},
   "outputs": [],
   "source": [
    "trainingset = glob.glob(\"D:\\AI Builders\\Project\\data\\My Dataset 3.0\\detectron2\\img\\*\")"
   ]
  },
  {
   "cell_type": "code",
   "execution_count": 13,
   "metadata": {},
   "outputs": [],
   "source": [
    "pool = glob.glob(\"D:\\AI Builders\\Project\\data\\Indoor-Training-Set\\clear\\*\")"
   ]
  },
  {
   "cell_type": "code",
   "execution_count": 14,
   "metadata": {},
   "outputs": [],
   "source": [
    "trainingset = [op.basename(x) for x in trainingset]\n",
    "pool = [op.basename(x) for x in pool]"
   ]
  },
  {
   "cell_type": "code",
   "execution_count": 16,
   "metadata": {},
   "outputs": [
    {
     "name": "stdout",
     "output_type": "stream",
     "text": [
      "Removed 364.png\n",
      "Removed 385.png\n",
      "Removed 386.png\n",
      "Removed 387.png\n",
      "Removed 393.png\n",
      "Removed 395.png\n",
      "Removed 397.png\n",
      "Removed 398.png\n",
      "Removed 403.png\n",
      "Removed 5.png\n",
      "Removed 514.png\n",
      "Removed 515.png\n",
      "Removed 520.png\n",
      "Removed 523.png\n",
      "Removed 524.png\n",
      "Removed 610.png\n",
      "Removed 614.png\n",
      "Removed 615.png\n",
      "Removed 628.png\n",
      "Removed 631.png\n",
      "Removed 8.png\n",
      "Removed 850.png\n",
      "Removed 861.png\n",
      "Removed 862.png\n",
      "Removed 863.png\n",
      "Removed 864.png\n",
      "Removed 865.png\n",
      "Removed 866.png\n",
      "Removed 867.png\n",
      "Removed 868.png\n",
      "Removed 9.png\n"
     ]
    }
   ],
   "source": [
    "for p in pool:\n",
    "    if p in trainingset:\n",
    "        os.remove(f\"D:\\AI Builders\\Project\\data\\Indoor-Training-Set\\clear\\{p}\")\n",
    "        print(f\"Removed {p}\")\n"
   ]
  },
  {
   "cell_type": "code",
   "execution_count": null,
   "metadata": {},
   "outputs": [],
   "source": []
  }
 ],
 "metadata": {
  "kernelspec": {
   "display_name": "Python 3.9.7 ('base')",
   "language": "python",
   "name": "python3"
  },
  "language_info": {
   "codemirror_mode": {
    "name": "ipython",
    "version": 3
   },
   "file_extension": ".py",
   "mimetype": "text/x-python",
   "name": "python",
   "nbconvert_exporter": "python",
   "pygments_lexer": "ipython3",
   "version": "3.9.7"
  },
  "orig_nbformat": 4,
  "vscode": {
   "interpreter": {
    "hash": "255645cb701589cb81c588ac0068b5c21a14e56b66df507167227c85817fcec9"
   }
  }
 },
 "nbformat": 4,
 "nbformat_minor": 2
}
